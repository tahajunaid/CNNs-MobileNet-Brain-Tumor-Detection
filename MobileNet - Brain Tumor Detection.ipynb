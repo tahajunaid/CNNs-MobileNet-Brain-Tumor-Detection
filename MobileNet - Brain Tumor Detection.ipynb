{
 "cells": [
  {
   "cell_type": "code",
   "execution_count": 2,
   "metadata": {
    "id": "fE6zqfu1epSm"
   },
   "outputs": [],
   "source": [
    "import tensorflow as tf\n",
    "from tensorflow import keras"
   ]
  },
  {
   "cell_type": "code",
   "execution_count": 3,
   "metadata": {
    "colab": {
     "base_uri": "https://localhost:8080/"
    },
    "id": "PxnQAbnzj-pQ",
    "outputId": "9c6777ca-830d-43f9-c980-b6842207665c"
   },
   "outputs": [
    {
     "name": "stdout",
     "output_type": "stream",
     "text": [
      "['glioma_tumor', 'meningioma_tumor', 'no_tumor', 'pituitary_tumor']\n"
     ]
    }
   ],
   "source": [
    "import os\n",
    "labels=classes_train = sorted(list(filter(lambda x: os.path.isdir('/Training/' +x ), os.listdir('/Training/'))))\n",
    "print(labels)"
   ]
  },
  {
   "cell_type": "code",
   "execution_count": 7,
   "metadata": {
    "colab": {
     "base_uri": "https://localhost:8080/"
    },
    "id": "5X3fOq6pllZE",
    "outputId": "f95c7582-cf62-46f3-a33f-8c4e826897d1"
   },
   "outputs": [
    {
     "name": "stderr",
     "output_type": "stream",
     "text": [
      "Copying files: 2870 files [28:57,  1.65 files/s]\n"
     ]
    }
   ],
   "source": [
    "import splitfolders\n",
    "splitfolders.ratio('/Training/', output=\"output\", seed=1337, ratio=(.8, .2))"
   ]
  },
  {
   "cell_type": "code",
   "execution_count": 8,
   "metadata": {
    "colab": {
     "base_uri": "https://localhost:8080/"
    },
    "id": "Tm1o3JXPm4Nl",
    "outputId": "1172f34e-66dc-4008-f4cc-ad3f4efac5a0"
   },
   "outputs": [
    {
     "name": "stdout",
     "output_type": "stream",
     "text": [
      "Found 2294 images belonging to 4 classes.\n",
      "Found 576 images belonging to 4 classes.\n"
     ]
    }
   ],
   "source": [
    "batch_size=128\n",
    "from tensorflow.keras.preprocessing.image import ImageDataGenerator\n",
    "train_datagen = ImageDataGenerator(rescale=1/255)\n",
    "train_generator = train_datagen.flow_from_directory(\n",
    "        '/content/output/train/', \n",
    "        target_size=(512, 512),  \n",
    "        batch_size=batch_size,\n",
    "        classes = labels,\n",
    "        class_mode='categorical')\n",
    "val_datagen = ImageDataGenerator(rescale=1/255)\n",
    "val_generator = val_datagen.flow_from_directory(\n",
    "        '/content/output/val', \n",
    "        target_size=(512, 512),  \n",
    "        batch_size=batch_size,\n",
    "        classes = classes_train,\n",
    "        class_mode='categorical')"
   ]
  },
  {
   "cell_type": "code",
   "execution_count": 9,
   "metadata": {
    "colab": {
     "base_uri": "https://localhost:8080/"
    },
    "id": "-b8KiJd6ngep",
    "outputId": "9d8a7cac-e90a-4c7b-9125-dabdf118a1a5"
   },
   "outputs": [
    {
     "name": "stdout",
     "output_type": "stream",
     "text": [
      "WARNING:tensorflow:`input_shape` is undefined or non-square, or `rows` is not in [128, 160, 192, 224]. Weights for input shape (224, 224) will be loaded as the default.\n",
      "Downloading data from https://storage.googleapis.com/tensorflow/keras-applications/mobilenet/mobilenet_1_0_224_tf_no_top.h5\n",
      "17227776/17225924 [==============================] - 1s 0us/step\n",
      "17235968/17225924 [==============================] - 1s 0us/step\n",
      "Model: \"sequential\"\n",
      "_________________________________________________________________\n",
      " Layer (type)                Output Shape              Param #   \n",
      "=================================================================\n",
      " mobilenet_1.00_224 (Functio  (None, 16, 16, 1024)     3228864   \n",
      " nal)                                                            \n",
      "                                                                 \n",
      " global_average_pooling2d (G  (None, 1024)             0         \n",
      " lobalAveragePooling2D)                                          \n",
      "                                                                 \n",
      " dense (Dense)               (None, 4)                 4100      \n",
      "                                                                 \n",
      "=================================================================\n",
      "Total params: 3,232,964\n",
      "Trainable params: 4,100\n",
      "Non-trainable params: 3,228,864\n",
      "_________________________________________________________________\n"
     ]
    }
   ],
   "source": [
    " # Model \n",
    "image_size = 512\n",
    "batch_size = 32\n",
    "\n",
    "train_datagen = keras.preprocessing.image.ImageDataGenerator()\n",
    "\n",
    "IMG_SHAPE = (image_size, image_size, 3)\n",
    "\n",
    "model = tf.keras.applications.MobileNet(input_shape=IMG_SHAPE, include_top=False)\n",
    "model.trainable = False\n",
    "\n",
    "model = tf.keras.Sequential([\n",
    "  model,\n",
    "  keras.layers.GlobalAveragePooling2D(),\n",
    "  keras.layers.Dense(4, activation='sigmoid')\n",
    "])\n",
    "\n",
    "model.summary()"
   ]
  },
  {
   "cell_type": "code",
   "execution_count": 10,
   "metadata": {
    "id": "jzwkSDDx1TAo"
   },
   "outputs": [],
   "source": [
    "from keras.callbacks import ModelCheckpoint\n",
    "model.compile(optimizer = 'rmsprop',\n",
    "                   loss = 'categorical_crossentropy', \n",
    "                   metrics = ['accuracy'])"
   ]
  },
  {
   "cell_type": "code",
   "execution_count": 11,
   "metadata": {
    "id": "5aG1OSJZQRkZ"
   },
   "outputs": [],
   "source": [
    "checkpointer = ModelCheckpoint(filepath=\"best_weights.hdf5\", \n",
    "                               monitor = 'val_acc',\n",
    "                               verbose=1, \n",
    "                               save_best_only=True)"
   ]
  },
  {
   "cell_type": "code",
   "execution_count": 12,
   "metadata": {
    "colab": {
     "base_uri": "https://localhost:8080/"
    },
    "id": "P5scvvx91-m3",
    "outputId": "b1c74fd7-f3b1-41b9-ee78-b5e0a53e49f0"
   },
   "outputs": [
    {
     "name": "stderr",
     "output_type": "stream",
     "text": [
      "/usr/local/lib/python3.7/dist-packages/ipykernel_launcher.py:6: UserWarning: `Model.fit_generator` is deprecated and will be removed in a future version. Please use `Model.fit`, which supports generators.\n",
      "  \n"
     ]
    },
    {
     "name": "stdout",
     "output_type": "stream",
     "text": [
      "Epoch 1/20\n",
      "18/18 [==============================] - ETA: 0s - loss: 1.2984 - accuracy: 0.4085WARNING:tensorflow:Your input ran out of data; interrupting training. Make sure that your dataset or generator can generate at least `steps_per_epoch * epochs` batches (in this case, 50 batches). You may need to use the repeat() function when building your dataset.\n",
      "WARNING:tensorflow:Can save best model only with val_acc available, skipping.\n",
      "18/18 [==============================] - 93s 3s/step - loss: 1.2984 - accuracy: 0.4085 - val_loss: 1.0363 - val_accuracy: 0.5469\n",
      "Epoch 2/20\n",
      "18/18 [==============================] - ETA: 0s - loss: 0.9302 - accuracy: 0.6473WARNING:tensorflow:Can save best model only with val_acc available, skipping.\n",
      "18/18 [==============================] - 33s 2s/step - loss: 0.9302 - accuracy: 0.6473\n",
      "Epoch 3/20\n",
      "18/18 [==============================] - ETA: 0s - loss: 0.7496 - accuracy: 0.7411WARNING:tensorflow:Can save best model only with val_acc available, skipping.\n",
      "18/18 [==============================] - 33s 2s/step - loss: 0.7496 - accuracy: 0.7411\n",
      "Epoch 4/20\n",
      "18/18 [==============================] - ETA: 0s - loss: 0.6355 - accuracy: 0.7868WARNING:tensorflow:Can save best model only with val_acc available, skipping.\n",
      "18/18 [==============================] - 33s 2s/step - loss: 0.6355 - accuracy: 0.7868\n",
      "Epoch 5/20\n",
      "18/18 [==============================] - ETA: 0s - loss: 0.5622 - accuracy: 0.8178WARNING:tensorflow:Can save best model only with val_acc available, skipping.\n",
      "18/18 [==============================] - 33s 2s/step - loss: 0.5622 - accuracy: 0.8178\n",
      "Epoch 6/20\n",
      "18/18 [==============================] - ETA: 0s - loss: 0.5127 - accuracy: 0.8339WARNING:tensorflow:Can save best model only with val_acc available, skipping.\n",
      "18/18 [==============================] - 33s 2s/step - loss: 0.5127 - accuracy: 0.8339\n",
      "Epoch 7/20\n",
      "18/18 [==============================] - ETA: 0s - loss: 0.4714 - accuracy: 0.8540WARNING:tensorflow:Can save best model only with val_acc available, skipping.\n",
      "18/18 [==============================] - 33s 2s/step - loss: 0.4714 - accuracy: 0.8540\n",
      "Epoch 8/20\n",
      "18/18 [==============================] - ETA: 0s - loss: 0.4323 - accuracy: 0.8614WARNING:tensorflow:Can save best model only with val_acc available, skipping.\n",
      "18/18 [==============================] - 33s 2s/step - loss: 0.4323 - accuracy: 0.8614\n",
      "Epoch 9/20\n",
      "18/18 [==============================] - ETA: 0s - loss: 0.4105 - accuracy: 0.8662WARNING:tensorflow:Can save best model only with val_acc available, skipping.\n",
      "18/18 [==============================] - 33s 2s/step - loss: 0.4105 - accuracy: 0.8662\n",
      "Epoch 10/20\n",
      "18/18 [==============================] - ETA: 0s - loss: 0.3895 - accuracy: 0.8731WARNING:tensorflow:Can save best model only with val_acc available, skipping.\n",
      "18/18 [==============================] - 33s 2s/step - loss: 0.3895 - accuracy: 0.8731\n",
      "Epoch 11/20\n",
      "18/18 [==============================] - ETA: 0s - loss: 0.3696 - accuracy: 0.8797WARNING:tensorflow:Can save best model only with val_acc available, skipping.\n",
      "18/18 [==============================] - 33s 2s/step - loss: 0.3696 - accuracy: 0.8797\n",
      "Epoch 12/20\n",
      "18/18 [==============================] - ETA: 0s - loss: 0.3514 - accuracy: 0.8784WARNING:tensorflow:Can save best model only with val_acc available, skipping.\n",
      "18/18 [==============================] - 33s 2s/step - loss: 0.3514 - accuracy: 0.8784\n",
      "Epoch 13/20\n",
      "18/18 [==============================] - ETA: 0s - loss: 0.3467 - accuracy: 0.8858WARNING:tensorflow:Can save best model only with val_acc available, skipping.\n",
      "18/18 [==============================] - 33s 2s/step - loss: 0.3467 - accuracy: 0.8858\n",
      "Epoch 14/20\n",
      "18/18 [==============================] - ETA: 0s - loss: 0.3258 - accuracy: 0.8893WARNING:tensorflow:Can save best model only with val_acc available, skipping.\n",
      "18/18 [==============================] - 33s 2s/step - loss: 0.3258 - accuracy: 0.8893\n",
      "Epoch 15/20\n",
      "18/18 [==============================] - ETA: 0s - loss: 0.3259 - accuracy: 0.8840WARNING:tensorflow:Can save best model only with val_acc available, skipping.\n",
      "18/18 [==============================] - 33s 2s/step - loss: 0.3259 - accuracy: 0.8840\n",
      "Epoch 16/20\n",
      "18/18 [==============================] - ETA: 0s - loss: 0.3069 - accuracy: 0.8971WARNING:tensorflow:Can save best model only with val_acc available, skipping.\n",
      "18/18 [==============================] - 33s 2s/step - loss: 0.3069 - accuracy: 0.8971\n",
      "Epoch 17/20\n",
      "18/18 [==============================] - ETA: 0s - loss: 0.3009 - accuracy: 0.8976WARNING:tensorflow:Can save best model only with val_acc available, skipping.\n",
      "18/18 [==============================] - 33s 2s/step - loss: 0.3009 - accuracy: 0.8976\n",
      "Epoch 18/20\n",
      "18/18 [==============================] - ETA: 0s - loss: 0.2913 - accuracy: 0.9050WARNING:tensorflow:Can save best model only with val_acc available, skipping.\n",
      "18/18 [==============================] - 33s 2s/step - loss: 0.2913 - accuracy: 0.9050\n",
      "Epoch 19/20\n",
      "18/18 [==============================] - ETA: 0s - loss: 0.2840 - accuracy: 0.9032WARNING:tensorflow:Can save best model only with val_acc available, skipping.\n",
      "18/18 [==============================] - 33s 2s/step - loss: 0.2840 - accuracy: 0.9032\n",
      "Epoch 20/20\n",
      "18/18 [==============================] - ETA: 0s - loss: 0.2751 - accuracy: 0.9093WARNING:tensorflow:Can save best model only with val_acc available, skipping.\n",
      "18/18 [==============================] - 33s 2s/step - loss: 0.2751 - accuracy: 0.9093\n"
     ]
    }
   ],
   "source": [
    "history = model.fit_generator(train_generator,\n",
    "                                   \n",
    "                                   epochs = 20,\n",
    "                                   callbacks=[checkpointer],\n",
    "                                   validation_data = val_generator,\n",
    "                                   validation_steps = 50)"
   ]
  },
  {
   "cell_type": "code",
   "execution_count": 14,
   "metadata": {
    "colab": {
     "base_uri": "https://localhost:8080/"
    },
    "id": "cu7nvHmQgykV",
    "outputId": "5d4705b8-c246-4012-9e6a-a7440feebacd"
   },
   "outputs": [
    {
     "name": "stderr",
     "output_type": "stream",
     "text": [
      "/usr/local/lib/python3.7/dist-packages/ipykernel_launcher.py:2: UserWarning: `Model.evaluate_generator` is deprecated and will be removed in a future version. Please use `Model.evaluate`, which supports generators.\n",
      "  \n"
     ]
    },
    {
     "data": {
      "text/plain": [
       "[0.2976827621459961, 0.8975694179534912]"
      ]
     },
     "execution_count": 14,
     "metadata": {},
     "output_type": "execute_result"
    }
   ],
   "source": [
    "#Testing our model on unseen validation dataset\n",
    "model.evaluate_generator(val_generator)"
   ]
  },
  {
   "cell_type": "markdown",
   "metadata": {
    "id": "RVoq3lw4qNtx"
   },
   "source": [
    "Our model has a test accuracy of 89.75%\n"
   ]
  },
  {
   "cell_type": "code",
   "execution_count": null,
   "metadata": {
    "id": "mbErzyi-qtMT"
   },
   "outputs": [],
   "source": []
  }
 ],
 "metadata": {
  "accelerator": "GPU",
  "colab": {
   "collapsed_sections": [],
   "name": "nikhil BT.ipynb",
   "provenance": []
  },
  "kernelspec": {
   "display_name": "Python [conda env:py3-TF2.0]",
   "language": "python",
   "name": "conda-env-py3-TF2.0-py"
  },
  "language_info": {
   "codemirror_mode": {
    "name": "ipython",
    "version": 3
   },
   "file_extension": ".py",
   "mimetype": "text/x-python",
   "name": "python",
   "nbconvert_exporter": "python",
   "pygments_lexer": "ipython3",
   "version": "3.7.7"
  }
 },
 "nbformat": 4,
 "nbformat_minor": 1
}
